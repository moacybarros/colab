{
  "nbformat": 4,
  "nbformat_minor": 0,
  "metadata": {
    "colab": {
      "name": "test_beam_transform.ipynb",
      "provenance": [],
      "collapsed_sections": [],
      "toc_visible": true,
      "authorship_tag": "ABX9TyNVFjMmc2wALNY1rpb6Teqz",
      "include_colab_link": true
    },
    "kernelspec": {
      "name": "python2",
      "display_name": "Python 2"
    }
  },
  "cells": [
    {
      "cell_type": "markdown",
      "metadata": {
        "id": "view-in-github",
        "colab_type": "text"
      },
      "source": [
        "<a href=\"https://colab.research.google.com/github/moacybarros/colab/blob/master/test_beam_transform.ipynb\" target=\"_parent\"><img src=\"https://colab.research.google.com/assets/colab-badge.svg\" alt=\"Open In Colab\"/></a>"
      ]
    },
    {
      "cell_type": "markdown",
      "metadata": {
        "id": "lNW7wLPHs9M8",
        "colab_type": "text"
      },
      "source": [
        "# My first colab notebook\n",
        "## Installing Apache Beam"
      ]
    },
    {
      "cell_type": "markdown",
      "metadata": {
        "id": "aT2qf7tSs_Vq",
        "colab_type": "text"
      },
      "source": [
        "#### Notes\n",
        "- Fix `ERROR: fastai 0.7.0 has requirement torch<0.4, but you'll have torch 0.4.1 which is incompatible.`\n",
        "  + refer to [this post](https://www.kaggle.com/c/humpback-whale-identification/discussion/74494)\n",
        "- Colab basic [shortcuts](https://medium.com/@tuewithmorris/google-colab-notebooks-keyboard-shortcuts-aa6a008fb91b)"
      ]
    },
    {
      "cell_type": "markdown",
      "metadata": {
        "id": "0P0_aE25xNYX",
        "colab_type": "text"
      },
      "source": [
        "#### Apply patch to fix library version issue listed above on **Notes** section"
      ]
    },
    {
      "cell_type": "code",
      "metadata": {
        "id": "55nc77twsum_",
        "colab_type": "code",
        "outputId": "cd515fcc-afb5-4518-8bd5-a9ebb2d550dd",
        "colab": {
          "base_uri": "https://localhost:8080/",
          "height": 377
        }
      },
      "source": [
        "!pip install fastai==0.7.0 --no-deps\n",
        "!pip install torch==0.4.1 torchvision==0.2.1"
      ],
      "execution_count": 2,
      "outputs": [
        {
          "output_type": "stream",
          "text": [
            "Requirement already satisfied: fastai==0.7.0 in /usr/local/lib/python2.7/dist-packages (0.7.0)\n",
            "Collecting torch==0.4.1\n",
            "\u001b[?25l  Downloading https://files.pythonhosted.org/packages/06/a7/6a173738dd6be014ebf9ba6f0b441d91b113b1506a98e10da4ff60994b54/torch-0.4.1-cp27-cp27mu-manylinux1_x86_64.whl (519.5MB)\n",
            "\u001b[K     |████████████████████████████████| 519.5MB 17kB/s \n",
            "\u001b[?25hCollecting torchvision==0.2.1\n",
            "\u001b[?25l  Downloading https://files.pythonhosted.org/packages/ca/0d/f00b2885711e08bd71242ebe7b96561e6f6d01fdb4b9dcf4d37e2e13c5e1/torchvision-0.2.1-py2.py3-none-any.whl (54kB)\n",
            "\u001b[K     |████████████████████████████████| 61kB 7.2MB/s \n",
            "\u001b[?25hRequirement already satisfied: six in /usr/local/lib/python2.7/dist-packages (from torchvision==0.2.1) (1.12.0)\n",
            "Requirement already satisfied: numpy in /usr/local/lib/python2.7/dist-packages (from torchvision==0.2.1) (1.16.4)\n",
            "Requirement already satisfied: pillow>=4.1.1 in /usr/local/lib/python2.7/dist-packages (from torchvision==0.2.1) (4.3.0)\n",
            "Requirement already satisfied: olefile in /usr/local/lib/python2.7/dist-packages (from pillow>=4.1.1->torchvision==0.2.1) (0.46)\n",
            "\u001b[31mERROR: fastai 0.7.0 has requirement torch<0.4, but you'll have torch 0.4.1 which is incompatible.\u001b[0m\n",
            "Installing collected packages: torch, torchvision\n",
            "  Found existing installation: torch 1.4.0\n",
            "    Uninstalling torch-1.4.0:\n",
            "      Successfully uninstalled torch-1.4.0\n",
            "  Found existing installation: torchvision 0.5.0\n",
            "    Uninstalling torchvision-0.5.0:\n",
            "      Successfully uninstalled torchvision-0.5.0\n",
            "Successfully installed torch-0.4.1 torchvision-0.2.1\n"
          ],
          "name": "stdout"
        }
      ]
    },
    {
      "cell_type": "markdown",
      "metadata": {
        "id": "2l_oXbfUxbWj",
        "colab_type": "text"
      },
      "source": [
        "#### Install Apache Beam"
      ]
    },
    {
      "cell_type": "code",
      "metadata": {
        "id": "4fAL12jYtTyM",
        "colab_type": "code",
        "colab": {
          "base_uri": "https://localhost:8080/",
          "height": 272
        },
        "outputId": "a2cad84f-f126-4cf7-af74-1f222b5c2d2d"
      },
      "source": [
        "!pip install --quiet apache_beam"
      ],
      "execution_count": 3,
      "outputs": [
        {
          "output_type": "stream",
          "text": [
            "\u001b[K     |████████████████████████████████| 3.3MB 2.8MB/s \n",
            "\u001b[K     |████████████████████████████████| 51kB 6.9MB/s \n",
            "\u001b[K     |████████████████████████████████| 1.0MB 41.8MB/s \n",
            "\u001b[K     |████████████████████████████████| 153kB 42.9MB/s \n",
            "\u001b[K     |████████████████████████████████| 17.5MB 226kB/s \n",
            "\u001b[K     |████████████████████████████████| 235kB 40.5MB/s \n",
            "\u001b[K     |████████████████████████████████| 51kB 5.5MB/s \n",
            "\u001b[K     |████████████████████████████████| 81kB 8.5MB/s \n",
            "\u001b[?25h  Building wheel for avro (setup.py) ... \u001b[?25l\u001b[?25hdone\n",
            "  Building wheel for dill (setup.py) ... \u001b[?25l\u001b[?25hdone\n",
            "  Building wheel for pyvcf (setup.py) ... \u001b[?25l\u001b[?25hdone\n",
            "  Building wheel for hdfs (setup.py) ... \u001b[?25l\u001b[?25hdone\n",
            "  Building wheel for oauth2client (setup.py) ... \u001b[?25l\u001b[?25hdone\n",
            "  Building wheel for docopt (setup.py) ... \u001b[?25l\u001b[?25hdone\n",
            "\u001b[31mERROR: fastai 0.7.0 has requirement torch<0.4, but you'll have torch 0.4.1 which is incompatible.\u001b[0m\n"
          ],
          "name": "stdout"
        }
      ]
    },
    {
      "cell_type": "code",
      "metadata": {
        "id": "NYGxj4fLosXj",
        "colab_type": "code",
        "colab": {}
      },
      "source": [
        "!{'pip install --quiet apache_beam'}"
      ],
      "execution_count": 0,
      "outputs": []
    },
    {
      "cell_type": "markdown",
      "metadata": {
        "id": "-36ghwsaxfgj",
        "colab_type": "text"
      },
      "source": [
        "#### Setup input file(create dir, upload, list and cat it)"
      ]
    },
    {
      "cell_type": "code",
      "metadata": {
        "id": "N7_fzKiJrb3S",
        "colab_type": "code",
        "colab": {}
      },
      "source": [
        "!mkdir -p data"
      ],
      "execution_count": 0,
      "outputs": []
    },
    {
      "cell_type": "code",
      "metadata": {
        "id": "EzjXG0pgtcjw",
        "colab_type": "code",
        "outputId": "dbe7ce2e-87ff-47cc-f5ed-8c430238b0ed",
        "colab": {
          "base_uri": "https://localhost:8080/",
          "height": 34
        }
      },
      "source": [
        "!ls"
      ],
      "execution_count": 5,
      "outputs": [
        {
          "output_type": "stream",
          "text": [
            "data  sample_data\n"
          ],
          "name": "stdout"
        }
      ]
    },
    {
      "cell_type": "code",
      "metadata": {
        "id": "y7-FxvT_tjGK",
        "colab_type": "code",
        "outputId": "8a356ce5-376e-4971-9e82-1dc20d901d93",
        "colab": {
          "resources": {
            "http://localhost:8080/nbextensions/google.colab/files.js": {
              "data": "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",
              "ok": true,
              "headers": [
                [
                  "content-type",
                  "application/javascript"
                ]
              ],
              "status": 200,
              "status_text": ""
            }
          },
          "base_uri": "https://localhost:8080/",
          "height": 71
        }
      },
      "source": [
        "from google.colab import files\n",
        "uploaded = files.upload()"
      ],
      "execution_count": 8,
      "outputs": [
        {
          "output_type": "display_data",
          "data": {
            "text/plain": [
              "<IPython.core.display.HTML object>"
            ],
            "text/html": [
              "\n",
              "     <input type=\"file\" id=\"files-45180f51-053a-4f08-8773-4b5d3bd1c2df\" name=\"files[]\" multiple disabled />\n",
              "     <output id=\"result-45180f51-053a-4f08-8773-4b5d3bd1c2df\">\n",
              "      Upload widget is only available when the cell has been executed in the\n",
              "      current browser session. Please rerun this cell to enable.\n",
              "      </output>\n",
              "      <script src=\"/nbextensions/google.colab/files.js\"></script> "
            ]
          },
          "metadata": {
            "tags": []
          }
        },
        {
          "output_type": "stream",
          "text": [
            "Saving dept-data.txt to dept-data.txt\n"
          ],
          "name": "stdout"
        }
      ]
    },
    {
      "cell_type": "code",
      "metadata": {
        "id": "QVM-UvzctvjI",
        "colab_type": "code",
        "outputId": "a65dc4a1-32bf-40aa-ae92-1b89910c82fd",
        "colab": {
          "base_uri": "https://localhost:8080/",
          "height": 34
        }
      },
      "source": [
        "!ls"
      ],
      "execution_count": 16,
      "outputs": [
        {
          "output_type": "stream",
          "text": [
            "data  dept-data.txt  sample_data\n"
          ],
          "name": "stdout"
        }
      ]
    },
    {
      "cell_type": "code",
      "metadata": {
        "id": "wFscWdxtu7Pq",
        "colab_type": "code",
        "colab": {}
      },
      "source": [
        "!mv dept-data.txt data/"
      ],
      "execution_count": 0,
      "outputs": []
    },
    {
      "cell_type": "code",
      "metadata": {
        "id": "As48kVpHvApm",
        "colab_type": "code",
        "outputId": "98767f3d-db05-414d-e91f-dd5e13371eb4",
        "colab": {
          "base_uri": "https://localhost:8080/",
          "height": 34
        }
      },
      "source": [
        "!ls"
      ],
      "execution_count": 18,
      "outputs": [
        {
          "output_type": "stream",
          "text": [
            "data  sample_data\n"
          ],
          "name": "stdout"
        }
      ]
    },
    {
      "cell_type": "code",
      "metadata": {
        "id": "I8IHtO1fvCJp",
        "colab_type": "code",
        "outputId": "8dce025c-1556-4ed4-f220-a6e22ed2242c",
        "colab": {
          "base_uri": "https://localhost:8080/",
          "height": 34
        }
      },
      "source": [
        "!ls data/"
      ],
      "execution_count": 19,
      "outputs": [
        {
          "output_type": "stream",
          "text": [
            "dept-data.txt\n"
          ],
          "name": "stdout"
        }
      ]
    },
    {
      "cell_type": "code",
      "metadata": {
        "id": "g1l784dYwVuq",
        "colab_type": "code",
        "colab": {}
      },
      "source": [
        ""
      ],
      "execution_count": 0,
      "outputs": []
    },
    {
      "cell_type": "code",
      "metadata": {
        "id": "sQ-36CTEvDzN",
        "colab_type": "code",
        "outputId": "9f267300-d356-4477-cca1-7cc971cde88a",
        "colab": {
          "base_uri": "https://localhost:8080/",
          "height": 1000
        }
      },
      "source": [
        "!cat data/dept-data.txt"
      ],
      "execution_count": 20,
      "outputs": [
        {
          "output_type": "stream",
          "text": [
            "149633CM,Marco,10,Accounts,1-01-2019\r\n",
            "212539MU,Rebekah,10,Accounts,1-01-2019\r\n",
            "231555ZZ,Itoe,10,Accounts,1-01-2019\r\n",
            "503996WI,Edouard,10,Accounts,1-01-2019\r\n",
            "704275DC,Kyle,10,Accounts,1-01-2019\r\n",
            "957149WC,Kyle,10,Accounts,1-01-2019\r\n",
            "241316NX,Kumiko,10,Accounts,1-01-2019\r\n",
            "796656IE,Gaston,10,Accounts,1-01-2019\r\n",
            "331593PS,Beryl,20,HR,1-01-2019\r\n",
            "560447WH,Olga,20,HR,1-01-2019\r\n",
            "222997TJ,Leslie,20,HR,1-01-2019\r\n",
            "171752SY,Mindy,20,HR,1-01-2019\r\n",
            "153636AS,Vicky,20,HR,1-01-2019\r\n",
            "745411HT,Richard,20,HR,1-01-2019\r\n",
            "298464HN,Kirk,20,HR,1-01-2019\r\n",
            "783950BW,Kaori,20,HR,1-01-2019\r\n",
            "892691AR,Beryl,20,HR,1-01-2019\r\n",
            "245668UZ,Oscar,20,HR,1-01-2019\r\n",
            "231206QD,Kumiko,30,Finance,1-01-2019\r\n",
            "357919KT,Wendy,30,Finance,1-01-2019\r\n",
            "472418ZG,Cristobal,30,Finance,1-01-2019\r\n",
            "442292OI,Erika,30,Finance,1-01-2019\r\n",
            "503647MN,Sebastien,30,Finance,1-01-2019\r\n",
            "245319LD,Valerie,30,Finance,1-01-2019\r\n",
            "818776XR,Dolly,30,Finance,1-01-2019\r\n",
            "259229ZU,Emily,30,Finance,1-01-2019\r\n",
            "349360YC,Kaori,30,Finance,1-01-2019\r\n",
            "951594MT,Hitomi,30,Finance,1-01-2019\r\n",
            "149633CM,Marco,10,Accounts,2-01-2019\r\n",
            "212539MU,Rebekah,10,Accounts,2-01-2019\r\n",
            "231555ZZ,Itoe,10,Accounts,2-01-2019\r\n",
            "503996WI,Edouard,10,Accounts,2-01-2019\r\n",
            "704275DC,Kyle,10,Accounts,2-01-2019\r\n",
            "957149WC,Kyle,10,Accounts,2-01-2019\r\n",
            "241316NX,Kumiko,10,Accounts,2-01-2019\r\n",
            "796656IE,Gaston,10,Accounts,2-01-2019\r\n",
            "718737IX,Ayumi,10,Accounts,2-01-2019\r\n",
            "331593PS,Beryl,20,HR,2-01-2019\r\n",
            "560447WH,Olga,20,HR,2-01-2019\r\n",
            "222997TJ,Leslie,20,HR,2-01-2019\r\n",
            "171752SY,Mindy,20,HR,2-01-2019\r\n",
            "153636AS,Vicky,20,HR,2-01-2019\r\n",
            "745411HT,Richard,20,HR,2-01-2019\r\n",
            "298464HN,Kirk,20,HR,2-01-2019\r\n",
            "783950BW,Kaori,20,HR,2-01-2019\r\n",
            "892691AR,Beryl,20,HR,2-01-2019\r\n",
            "245668UZ,Oscar,20,HR,2-01-2019\r\n",
            "231206QD,Kumiko,30,Finance,2-01-2019\r\n",
            "357919KT,Wendy,30,Finance,2-01-2019\r\n",
            "472418ZG,Cristobal,30,Finance,2-01-2019\r\n",
            "442292OI,Erika,30,Finance,2-01-2019\r\n",
            "503647MN,Sebastien,30,Finance,2-01-2019\r\n",
            "245319LD,Valerie,30,Finance,2-01-2019\r\n",
            "818776XR,Dolly,30,Finance,2-01-2019\r\n",
            "259229ZU,Emily,30,Finance,2-01-2019\r\n",
            "349360YC,Kaori,30,Finance,2-01-2019\r\n",
            "951594MT,Hitomi,30,Finance,2-01-2019\r\n",
            "149633CM,Marco,10,Accounts,3-01-2019\r\n",
            "212539MU,Rebekah,10,Accounts,3-01-2019\r\n",
            "231555ZZ,Itoe,10,Accounts,3-01-2019\r\n",
            "503996WI,Edouard,10,Accounts,3-01-2019\r\n",
            "704275DC,Kyle,10,Accounts,3-01-2019\r\n",
            "957149WC,Kyle,10,Accounts,3-01-2019\r\n",
            "241316NX,Kumiko,10,Accounts,3-01-2019\r\n",
            "796656IE,Gaston,10,Accounts,3-01-2019\r\n",
            "718737IX,Ayumi,10,Accounts,3-01-2019\r\n",
            "331593PS,Beryl,20,HR,3-01-2019\r\n",
            "560447WH,Olga,20,HR,3-01-2019\r\n",
            "222997TJ,Leslie,20,HR,3-01-2019\r\n",
            "171752SY,Mindy,20,HR,3-01-2019\r\n",
            "153636AS,Vicky,20,HR,3-01-2019\r\n",
            "745411HT,Richard,20,HR,3-01-2019\r\n",
            "298464HN,Kirk,20,HR,3-01-2019\r\n",
            "783950BW,Kaori,20,HR,3-01-2019\r\n",
            "892691AR,Beryl,20,HR,3-01-2019\r\n",
            "245668UZ,Oscar,20,HR,3-01-2019\r\n",
            "231206QD,Kumiko,30,Finance,3-01-2019\r\n",
            "357919KT,Wendy,30,Finance,3-01-2019\r\n",
            "472418ZG,Cristobal,30,Finance,3-01-2019\r\n",
            "442292OI,Erika,30,Finance,3-01-2019\r\n",
            "503647MN,Sebastien,30,Finance,3-01-2019\r\n",
            "245319LD,Valerie,30,Finance,3-01-2019\r\n",
            "818776XR,Dolly,30,Finance,3-01-2019\r\n",
            "259229ZU,Emily,30,Finance,3-01-2019\r\n",
            "349360YC,Kaori,30,Finance,3-01-2019\r\n",
            "951594MT,Hitomi,30,Finance,3-01-2019\r\n",
            "149633CM,Marco,10,Accounts,4-01-2019\r\n",
            "212539MU,Rebekah,10,Accounts,4-01-2019\r\n",
            "231555ZZ,Itoe,10,Accounts,4-01-2019\r\n",
            "503996WI,Edouard,10,Accounts,4-01-2019\r\n",
            "704275DC,Kyle,10,Accounts,4-01-2019\r\n",
            "957149WC,Kyle,10,Accounts,4-01-2019\r\n",
            "241316NX,Kumiko,10,Accounts,4-01-2019\r\n",
            "796656IE,Gaston,10,Accounts,4-01-2019\r\n",
            "718737IX,Ayumi,10,Accounts,4-01-2019\r\n",
            "331593PS,Beryl,20,HR,4-01-2019\r\n",
            "560447WH,Olga,20,HR,4-01-2019\r\n",
            "222997TJ,Leslie,20,HR,4-01-2019\r\n",
            "171752SY,Mindy,20,HR,4-01-2019\r\n",
            "153636AS,Vicky,20,HR,4-01-2019\r\n",
            "745411HT,Richard,20,HR,4-01-2019\r\n",
            "298464HN,Kirk,20,HR,4-01-2019\r\n",
            "783950BW,Kaori,20,HR,4-01-2019\r\n",
            "892691AR,Beryl,20,HR,4-01-2019\r\n",
            "245668UZ,Oscar,20,HR,4-01-2019\r\n",
            "231206QD,Kumiko,30,Finance,4-01-2019\r\n",
            "357919KT,Wendy,30,Finance,4-01-2019\r\n",
            "472418ZG,Cristobal,30,Finance,4-01-2019\r\n",
            "442292OI,Erika,30,Finance,4-01-2019\r\n",
            "503647MN,Sebastien,30,Finance,4-01-2019\r\n",
            "245319LD,Valerie,30,Finance,4-01-2019\r\n",
            "818776XR,Dolly,30,Finance,4-01-2019\r\n",
            "259229ZU,Emily,30,Finance,4-01-2019\r\n",
            "349360YC,Kaori,30,Finance,4-01-2019\r\n",
            "951594MT,Hitomi,30,Finance,4-01-2019\r\n",
            "149633CM,Marco,10,Accounts,5-01-2019\r\n",
            "212539MU,Rebekah,10,Accounts,5-01-2019\r\n",
            "231555ZZ,Itoe,10,Accounts,5-01-2019\r\n",
            "503996WI,Edouard,10,Accounts,5-01-2019\r\n",
            "704275DC,Kyle,10,Accounts,5-01-2019\r\n",
            "957149WC,Kyle,10,Accounts,5-01-2019\r\n",
            "241316NX,Kumiko,10,Accounts,5-01-2019\r\n",
            "796656IE,Gaston,10,Accounts,5-01-2019\r\n",
            "718737IX,Ayumi,10,Accounts,5-01-2019\r\n",
            "331593PS,Beryl,20,HR,5-01-2019\r\n",
            "560447WH,Olga,20,HR,5-01-2019\r\n",
            "222997TJ,Leslie,20,HR,5-01-2019\r\n",
            "171752SY,Mindy,20,HR,5-01-2019\r\n",
            "153636AS,Vicky,20,HR,5-01-2019\r\n",
            "745411HT,Richard,20,HR,5-01-2019\r\n",
            "298464HN,Kirk,20,HR,5-01-2019\r\n",
            "783950BW,Kaori,20,HR,5-01-2019\r\n",
            "892691AR,Beryl,20,HR,5-01-2019\r\n",
            "245668UZ,Oscar,20,HR,5-01-2019\r\n",
            "231206QD,Kumiko,30,Finance,5-01-2019\r\n",
            "357919KT,Wendy,30,Finance,5-01-2019\r\n",
            "472418ZG,Cristobal,30,Finance,5-01-2019\r\n",
            "442292OI,Erika,30,Finance,5-01-2019\r\n",
            "503647MN,Sebastien,30,Finance,5-01-2019\r\n",
            "245319LD,Valerie,30,Finance,5-01-2019\r\n",
            "818776XR,Dolly,30,Finance,5-01-2019\r\n",
            "259229ZU,Emily,30,Finance,5-01-2019\r\n",
            "349360YC,Kaori,30,Finance,5-01-2019\r\n",
            "951594MT,Hitomi,30,Finance,5-01-2019\r\n",
            "149633CM,Marco,10,Accounts,6-01-2019\r\n",
            "212539MU,Rebekah,10,Accounts,6-01-2019\r\n",
            "231555ZZ,Itoe,10,Accounts,6-01-2019\r\n",
            "503996WI,Edouard,10,Accounts,6-01-2019\r\n",
            "704275DC,Kyle,10,Accounts,6-01-2019\r\n",
            "957149WC,Kyle,10,Accounts,6-01-2019\r\n",
            "241316NX,Kumiko,10,Accounts,6-01-2019\r\n",
            "796656IE,Gaston,10,Accounts,6-01-2019\r\n",
            "718737IX,Ayumi,10,Accounts,6-01-2019\r\n",
            "331593PS,Beryl,20,HR,6-01-2019\r\n",
            "560447WH,Olga,20,HR,6-01-2019\r\n",
            "222997TJ,Leslie,20,HR,6-01-2019\r\n",
            "171752SY,Mindy,20,HR,6-01-2019\r\n",
            "153636AS,Vicky,20,HR,6-01-2019\r\n",
            "745411HT,Richard,20,HR,6-01-2019\r\n",
            "298464HN,Kirk,20,HR,6-01-2019\r\n",
            "783950BW,Kaori,20,HR,6-01-2019\r\n",
            "892691AR,Beryl,20,HR,6-01-2019\r\n",
            "245668UZ,Oscar,20,HR,6-01-2019\r\n",
            "231206QD,Kumiko,30,Finance,6-01-2019\r\n",
            "357919KT,Wendy,30,Finance,6-01-2019\r\n",
            "472418ZG,Cristobal,30,Finance,6-01-2019\r\n",
            "442292OI,Erika,30,Finance,6-01-2019\r\n",
            "503647MN,Sebastien,30,Finance,6-01-2019\r\n",
            "245319LD,Valerie,30,Finance,6-01-2019\r\n",
            "818776XR,Dolly,30,Finance,6-01-2019\r\n",
            "259229ZU,Emily,30,Finance,6-01-2019\r\n",
            "349360YC,Kaori,30,Finance,6-01-2019\r\n",
            "951594MT,Hitomi,30,Finance,6-01-2019\r\n",
            "149633CM,Marco,10,Accounts,7-01-2019\r\n",
            "212539MU,Rebekah,10,Accounts,7-01-2019\r\n",
            "231555ZZ,Itoe,10,Accounts,7-01-2019\r\n",
            "503996WI,Edouard,10,Accounts,7-01-2019\r\n",
            "704275DC,Kyle,10,Accounts,7-01-2019\r\n",
            "957149WC,Kyle,10,Accounts,7-01-2019\r\n",
            "241316NX,Kumiko,10,Accounts,7-01-2019\r\n",
            "796656IE,Gaston,10,Accounts,7-01-2019\r\n",
            "718737IX,Ayumi,10,Accounts,7-01-2019\r\n",
            "331593PS,Beryl,20,HR,7-01-2019\r\n",
            "560447WH,Olga,20,HR,7-01-2019\r\n",
            "222997TJ,Leslie,20,HR,7-01-2019\r\n",
            "171752SY,Mindy,20,HR,7-01-2019\r\n",
            "153636AS,Vicky,20,HR,7-01-2019\r\n",
            "745411HT,Richard,20,HR,7-01-2019\r\n",
            "298464HN,Kirk,20,HR,7-01-2019\r\n",
            "783950BW,Kaori,20,HR,7-01-2019\r\n",
            "892691AR,Beryl,20,HR,7-01-2019\r\n",
            "245668UZ,Oscar,20,HR,7-01-2019\r\n",
            "231206QD,Kumiko,30,Finance,7-01-2019\r\n",
            "357919KT,Wendy,30,Finance,7-01-2019\r\n",
            "472418ZG,Cristobal,30,Finance,7-01-2019\r\n",
            "442292OI,Erika,30,Finance,7-01-2019\r\n",
            "503647MN,Sebastien,30,Finance,7-01-2019\r\n",
            "245319LD,Valerie,30,Finance,7-01-2019\r\n",
            "818776XR,Dolly,30,Finance,7-01-2019\r\n",
            "259229ZU,Emily,30,Finance,7-01-2019\r\n",
            "349360YC,Kaori,30,Finance,7-01-2019\r\n",
            "951594MT,Hitomi,30,Finance,7-01-2019\r\n",
            "149633CM,Marco,10,Accounts,8-01-2019\r\n",
            "212539MU,Rebekah,10,Accounts,8-01-2019\r\n",
            "231555ZZ,Itoe,10,Accounts,8-01-2019\r\n",
            "503996WI,Edouard,10,Accounts,8-01-2019\r\n",
            "704275DC,Kyle,10,Accounts,8-01-2019\r\n",
            "957149WC,Kyle,10,Accounts,8-01-2019\r\n",
            "241316NX,Kumiko,10,Accounts,8-01-2019\r\n",
            "796656IE,Gaston,10,Accounts,8-01-2019\r\n",
            "718737IX,Ayumi,10,Accounts,8-01-2019\r\n",
            "331593PS,Beryl,20,HR,8-01-2019\r\n",
            "560447WH,Olga,20,HR,8-01-2019\r\n",
            "222997TJ,Leslie,20,HR,8-01-2019\r\n",
            "171752SY,Mindy,20,HR,8-01-2019\r\n",
            "153636AS,Vicky,20,HR,8-01-2019\r\n",
            "745411HT,Richard,20,HR,8-01-2019\r\n",
            "298464HN,Kirk,20,HR,8-01-2019\r\n",
            "783950BW,Kaori,20,HR,8-01-2019\r\n",
            "892691AR,Beryl,20,HR,8-01-2019\r\n",
            "245668UZ,Oscar,20,HR,8-01-2019\r\n",
            "231206QD,Kumiko,30,Finance,8-01-2019\r\n",
            "357919KT,Wendy,30,Finance,8-01-2019\r\n",
            "472418ZG,Cristobal,30,Finance,8-01-2019\r\n",
            "442292OI,Erika,30,Finance,8-01-2019\r\n",
            "503647MN,Sebastien,30,Finance,8-01-2019\r\n",
            "245319LD,Valerie,30,Finance,8-01-2019\r\n",
            "818776XR,Dolly,30,Finance,8-01-2019\r\n",
            "259229ZU,Emily,30,Finance,8-01-2019\r\n",
            "349360YC,Kaori,30,Finance,8-01-2019\r\n",
            "951594MT,Hitomi,30,Finance,8-01-2019\r\n",
            "149633CM,Marco,10,Accounts,9-01-2019\r\n",
            "212539MU,Rebekah,10,Accounts,9-01-2019\r\n",
            "231555ZZ,Itoe,10,Accounts,9-01-2019\r\n",
            "503996WI,Edouard,10,Accounts,9-01-2019\r\n",
            "704275DC,Kyle,10,Accounts,9-01-2019\r\n",
            "957149WC,Kyle,10,Accounts,9-01-2019\r\n",
            "241316NX,Kumiko,10,Accounts,9-01-2019\r\n",
            "796656IE,Gaston,10,Accounts,9-01-2019\r\n",
            "718737IX,Ayumi,10,Accounts,9-01-2019\r\n",
            "331593PS,Beryl,20,HR,9-01-2019\r\n",
            "560447WH,Olga,20,HR,9-01-2019\r\n",
            "222997TJ,Leslie,20,HR,9-01-2019\r\n",
            "171752SY,Mindy,20,HR,9-01-2019\r\n",
            "153636AS,Vicky,20,HR,9-01-2019\r\n",
            "745411HT,Richard,20,HR,9-01-2019\r\n",
            "298464HN,Kirk,20,HR,9-01-2019\r\n",
            "783950BW,Kaori,20,HR,9-01-2019\r\n",
            "892691AR,Beryl,20,HR,9-01-2019\r\n",
            "245668UZ,Oscar,20,HR,9-01-2019\r\n",
            "231206QD,Kumiko,30,Finance,9-01-2019\r\n",
            "357919KT,Wendy,30,Finance,9-01-2019\r\n",
            "472418ZG,Cristobal,30,Finance,9-01-2019\r\n",
            "442292OI,Erika,30,Finance,9-01-2019\r\n",
            "503647MN,Sebastien,30,Finance,9-01-2019\r\n",
            "245319LD,Valerie,30,Finance,9-01-2019\r\n",
            "818776XR,Dolly,30,Finance,9-01-2019\r\n",
            "259229ZU,Emily,30,Finance,9-01-2019\r\n",
            "349360YC,Kaori,30,Finance,9-01-2019\r\n",
            "951594MT,Hitomi,30,Finance,9-01-2019\r\n",
            "149633CM,Marco,10,Accounts,10-01-2019\r\n",
            "212539MU,Rebekah,10,Accounts,10-01-2019\r\n",
            "231555ZZ,Itoe,10,Accounts,10-01-2019\r\n",
            "503996WI,Edouard,10,Accounts,10-01-2019\r\n",
            "704275DC,Kyle,10,Accounts,10-01-2019\r\n",
            "957149WC,Kyle,10,Accounts,10-01-2019\r\n",
            "241316NX,Kumiko,10,Accounts,10-01-2019\r\n",
            "796656IE,Gaston,10,Accounts,10-01-2019\r\n",
            "718737IX,Ayumi,10,Accounts,10-01-2019\r\n",
            "331593PS,Beryl,20,HR,10-01-2019\r\n",
            "560447WH,Olga,20,HR,10-01-2019\r\n",
            "222997TJ,Leslie,20,HR,10-01-2019\r\n",
            "171752SY,Mindy,20,HR,10-01-2019\r\n",
            "153636AS,Vicky,20,HR,10-01-2019\r\n",
            "745411HT,Richard,20,HR,10-01-2019\r\n",
            "298464HN,Kirk,20,HR,10-01-2019\r\n",
            "783950BW,Kaori,20,HR,10-01-2019\r\n",
            "892691AR,Beryl,20,HR,10-01-2019\r\n",
            "245668UZ,Oscar,20,HR,10-01-2019\r\n",
            "231206QD,Kumiko,30,Finance,10-01-2019\r\n",
            "357919KT,Wendy,30,Finance,10-01-2019\r\n",
            "472418ZG,Cristobal,30,Finance,10-01-2019\r\n",
            "442292OI,Erika,30,Finance,10-01-2019\r\n",
            "503647MN,Sebastien,30,Finance,10-01-2019\r\n",
            "245319LD,Valerie,30,Finance,10-01-2019\r\n",
            "818776XR,Dolly,30,Finance,10-01-2019\r\n",
            "259229ZU,Emily,30,Finance,10-01-2019\r\n",
            "349360YC,Kaori,30,Finance,10-01-2019\r\n",
            "951594MT,Hitomi,30,Finance,10-01-2019\r\n",
            "149633CM,Marco,10,Accounts,11-01-2019\r\n",
            "212539MU,Rebekah,10,Accounts,11-01-2019\r\n",
            "231555ZZ,Itoe,10,Accounts,11-01-2019\r\n",
            "503996WI,Edouard,10,Accounts,11-01-2019\r\n",
            "704275DC,Kyle,10,Accounts,11-01-2019\r\n",
            "957149WC,Kyle,10,Accounts,11-01-2019\r\n",
            "241316NX,Kumiko,10,Accounts,11-01-2019\r\n",
            "796656IE,Gaston,10,Accounts,11-01-2019\r\n",
            "718737IX,Ayumi,10,Accounts,11-01-2019\r\n",
            "331593PS,Beryl,20,HR,11-01-2019\r\n",
            "560447WH,Olga,20,HR,11-01-2019\r\n",
            "222997TJ,Leslie,20,HR,11-01-2019\r\n",
            "171752SY,Mindy,20,HR,11-01-2019\r\n",
            "153636AS,Vicky,20,HR,11-01-2019\r\n",
            "745411HT,Richard,20,HR,11-01-2019\r\n",
            "298464HN,Kirk,20,HR,11-01-2019\r\n",
            "783950BW,Kaori,20,HR,11-01-2019\r\n",
            "892691AR,Beryl,20,HR,11-01-2019\r\n",
            "245668UZ,Oscar,20,HR,11-01-2019\r\n",
            "231206QD,Kumiko,30,Finance,11-01-2019\r\n",
            "357919KT,Wendy,30,Finance,11-01-2019\r\n",
            "472418ZG,Cristobal,30,Finance,11-01-2019\r\n",
            "442292OI,Erika,30,Finance,11-01-2019\r\n",
            "503647MN,Sebastien,30,Finance,11-01-2019\r\n",
            "245319LD,Valerie,30,Finance,11-01-2019\r\n",
            "818776XR,Dolly,30,Finance,11-01-2019\r\n",
            "259229ZU,Emily,30,Finance,11-01-2019\r\n",
            "349360YC,Kaori,30,Finance,11-01-2019\r\n",
            "951594MT,Hitomi,30,Finance,11-01-2019\r\n",
            "149633CM,Marco,10,Accounts,12-01-2019\r\n",
            "212539MU,Rebekah,10,Accounts,12-01-2019\r\n",
            "231555ZZ,Itoe,10,Accounts,12-01-2019\r\n",
            "503996WI,Edouard,10,Accounts,12-01-2019\r\n",
            "704275DC,Kyle,10,Accounts,12-01-2019\r\n",
            "957149WC,Kyle,10,Accounts,12-01-2019\r\n",
            "241316NX,Kumiko,10,Accounts,12-01-2019\r\n",
            "796656IE,Gaston,10,Accounts,12-01-2019\r\n",
            "718737IX,Ayumi,10,Accounts,12-01-2019\r\n",
            "331593PS,Beryl,20,HR,12-01-2019\r\n",
            "560447WH,Olga,20,HR,12-01-2019\r\n",
            "222997TJ,Leslie,20,HR,12-01-2019\r\n",
            "171752SY,Mindy,20,HR,12-01-2019\r\n",
            "153636AS,Vicky,20,HR,12-01-2019\r\n",
            "745411HT,Richard,20,HR,12-01-2019\r\n",
            "298464HN,Kirk,20,HR,12-01-2019\r\n",
            "783950BW,Kaori,20,HR,12-01-2019\r\n",
            "892691AR,Beryl,20,HR,12-01-2019\r\n",
            "245668UZ,Oscar,20,HR,12-01-2019\r\n",
            "231206QD,Kumiko,30,Finance,12-01-2019\r\n",
            "357919KT,Wendy,30,Finance,12-01-2019\r\n",
            "472418ZG,Cristobal,30,Finance,12-01-2019\r\n",
            "442292OI,Erika,30,Finance,12-01-2019\r\n",
            "503647MN,Sebastien,30,Finance,12-01-2019\r\n",
            "245319LD,Valerie,30,Finance,12-01-2019\r\n",
            "818776XR,Dolly,30,Finance,12-01-2019\r\n",
            "259229ZU,Emily,30,Finance,12-01-2019\r\n",
            "349360YC,Kaori,30,Finance,12-01-2019\r\n",
            "951594MT,Hitomi,30,Finance,12-01-2019\r\n",
            "149633CM,Marco,10,Accounts,13-01-2019\r\n",
            "212539MU,Rebekah,10,Accounts,13-01-2019\r\n",
            "231555ZZ,Itoe,10,Accounts,13-01-2019\r\n",
            "503996WI,Edouard,10,Accounts,13-01-2019\r\n",
            "704275DC,Kyle,10,Accounts,13-01-2019\r\n",
            "957149WC,Kyle,10,Accounts,13-01-2019\r\n",
            "241316NX,Kumiko,10,Accounts,13-01-2019\r\n",
            "796656IE,Gaston,10,Accounts,13-01-2019\r\n",
            "718737IX,Ayumi,10,Accounts,13-01-2019\r\n",
            "331593PS,Beryl,20,HR,13-01-2019\r\n",
            "560447WH,Olga,20,HR,13-01-2019\r\n",
            "222997TJ,Leslie,20,HR,13-01-2019\r\n",
            "171752SY,Mindy,20,HR,13-01-2019\r\n",
            "153636AS,Vicky,20,HR,13-01-2019\r\n",
            "745411HT,Richard,20,HR,13-01-2019\r\n",
            "298464HN,Kirk,20,HR,13-01-2019\r\n",
            "783950BW,Kaori,20,HR,13-01-2019\r\n",
            "892691AR,Beryl,20,HR,13-01-2019\r\n",
            "245668UZ,Oscar,20,HR,13-01-2019\r\n",
            "231206QD,Kumiko,30,Finance,13-01-2019\r\n",
            "357919KT,Wendy,30,Finance,13-01-2019\r\n",
            "472418ZG,Cristobal,30,Finance,13-01-2019\r\n",
            "442292OI,Erika,30,Finance,13-01-2019\r\n",
            "503647MN,Sebastien,30,Finance,13-01-2019\r\n",
            "245319LD,Valerie,30,Finance,13-01-2019\r\n",
            "818776XR,Dolly,30,Finance,13-01-2019\r\n",
            "259229ZU,Emily,30,Finance,13-01-2019\r\n",
            "349360YC,Kaori,30,Finance,13-01-2019\r\n",
            "951594MT,Hitomi,30,Finance,13-01-2019\r\n",
            "149633CM,Marco,10,Accounts,14-01-2019\r\n",
            "212539MU,Rebekah,10,Accounts,14-01-2019\r\n",
            "231555ZZ,Itoe,10,Accounts,14-01-2019\r\n",
            "503996WI,Edouard,10,Accounts,14-01-2019\r\n",
            "704275DC,Kyle,10,Accounts,14-01-2019\r\n",
            "957149WC,Kyle,10,Accounts,14-01-2019\r\n",
            "241316NX,Kumiko,10,Accounts,14-01-2019\r\n",
            "796656IE,Gaston,10,Accounts,14-01-2019\r\n",
            "718737IX,Ayumi,10,Accounts,14-01-2019\r\n",
            "331593PS,Beryl,20,HR,14-01-2019\r\n",
            "560447WH,Olga,20,HR,14-01-2019\r\n",
            "222997TJ,Leslie,20,HR,14-01-2019\r\n",
            "171752SY,Mindy,20,HR,14-01-2019\r\n",
            "153636AS,Vicky,20,HR,14-01-2019\r\n",
            "745411HT,Richard,20,HR,14-01-2019\r\n",
            "298464HN,Kirk,20,HR,14-01-2019\r\n",
            "783950BW,Kaori,20,HR,14-01-2019\r\n",
            "892691AR,Beryl,20,HR,14-01-2019\r\n",
            "245668UZ,Oscar,20,HR,14-01-2019\r\n",
            "231206QD,Kumiko,30,Finance,14-01-2019\r\n",
            "357919KT,Wendy,30,Finance,14-01-2019\r\n",
            "472418ZG,Cristobal,30,Finance,14-01-2019\r\n",
            "442292OI,Erika,30,Finance,14-01-2019\r\n",
            "503647MN,Sebastien,30,Finance,14-01-2019\r\n",
            "245319LD,Valerie,30,Finance,14-01-2019\r\n",
            "818776XR,Dolly,30,Finance,14-01-2019\r\n",
            "259229ZU,Emily,30,Finance,14-01-2019\r\n",
            "349360YC,Kaori,30,Finance,14-01-2019\r\n",
            "951594MT,Hitomi,30,Finance,14-01-2019\r\n",
            "149633CM,Marco,10,Accounts,15-01-2019\r\n",
            "212539MU,Rebekah,10,Accounts,15-01-2019\r\n",
            "231555ZZ,Itoe,10,Accounts,15-01-2019\r\n",
            "503996WI,Edouard,10,Accounts,15-01-2019\r\n",
            "704275DC,Kyle,10,Accounts,15-01-2019\r\n",
            "957149WC,Kyle,10,Accounts,15-01-2019\r\n",
            "241316NX,Kumiko,10,Accounts,15-01-2019\r\n",
            "796656IE,Gaston,10,Accounts,15-01-2019\r\n",
            "718737IX,Ayumi,10,Accounts,15-01-2019\r\n",
            "331593PS,Beryl,20,HR,15-01-2019\r\n",
            "560447WH,Olga,20,HR,15-01-2019\r\n",
            "222997TJ,Leslie,20,HR,15-01-2019\r\n",
            "171752SY,Mindy,20,HR,15-01-2019\r\n",
            "153636AS,Vicky,20,HR,15-01-2019\r\n",
            "745411HT,Richard,20,HR,15-01-2019\r\n",
            "298464HN,Kirk,20,HR,15-01-2019\r\n",
            "783950BW,Kaori,20,HR,15-01-2019\r\n",
            "892691AR,Beryl,20,HR,15-01-2019\r\n",
            "245668UZ,Oscar,20,HR,15-01-2019\r\n",
            "231206QD,Kumiko,30,Finance,15-01-2019\r\n",
            "357919KT,Wendy,30,Finance,15-01-2019\r\n",
            "472418ZG,Cristobal,30,Finance,15-01-2019\r\n",
            "442292OI,Erika,30,Finance,15-01-2019\r\n",
            "503647MN,Sebastien,30,Finance,15-01-2019\r\n",
            "245319LD,Valerie,30,Finance,15-01-2019\r\n",
            "818776XR,Dolly,30,Finance,15-01-2019\r\n",
            "259229ZU,Emily,30,Finance,15-01-2019\r\n",
            "349360YC,Kaori,30,Finance,15-01-2019\r\n",
            "951594MT,Hitomi,30,Finance,15-01-2019\r\n",
            "149633CM,Marco,10,Accounts,16-01-2019\r\n",
            "212539MU,Rebekah,10,Accounts,16-01-2019\r\n",
            "231555ZZ,Itoe,10,Accounts,16-01-2019\r\n",
            "503996WI,Edouard,10,Accounts,16-01-2019\r\n",
            "704275DC,Kyle,10,Accounts,16-01-2019\r\n",
            "957149WC,Kyle,10,Accounts,16-01-2019\r\n",
            "241316NX,Kumiko,10,Accounts,16-01-2019\r\n",
            "796656IE,Gaston,10,Accounts,16-01-2019\r\n",
            "718737IX,Ayumi,10,Accounts,16-01-2019\r\n",
            "331593PS,Beryl,20,HR,16-01-2019\r\n",
            "560447WH,Olga,20,HR,16-01-2019\r\n",
            "222997TJ,Leslie,20,HR,16-01-2019\r\n",
            "171752SY,Mindy,20,HR,16-01-2019\r\n",
            "153636AS,Vicky,20,HR,16-01-2019\r\n",
            "745411HT,Richard,20,HR,16-01-2019\r\n",
            "298464HN,Kirk,20,HR,16-01-2019\r\n",
            "783950BW,Kaori,20,HR,16-01-2019\r\n",
            "892691AR,Beryl,20,HR,16-01-2019\r\n",
            "245668UZ,Oscar,20,HR,16-01-2019\r\n",
            "231206QD,Kumiko,30,Finance,16-01-2019\r\n",
            "357919KT,Wendy,30,Finance,16-01-2019\r\n",
            "472418ZG,Cristobal,30,Finance,16-01-2019\r\n",
            "442292OI,Erika,30,Finance,16-01-2019\r\n",
            "503647MN,Sebastien,30,Finance,16-01-2019\r\n",
            "245319LD,Valerie,30,Finance,16-01-2019\r\n",
            "818776XR,Dolly,30,Finance,16-01-2019\r\n",
            "259229ZU,Emily,30,Finance,16-01-2019\r\n",
            "349360YC,Kaori,30,Finance,16-01-2019\r\n",
            "951594MT,Hitomi,30,Finance,16-01-2019\r\n",
            "149633CM,Marco,10,Accounts,17-01-2019\r\n",
            "212539MU,Rebekah,10,Accounts,17-01-2019\r\n",
            "231555ZZ,Itoe,10,Accounts,17-01-2019\r\n",
            "503996WI,Edouard,10,Accounts,17-01-2019\r\n",
            "704275DC,Kyle,10,Accounts,17-01-2019\r\n",
            "957149WC,Kyle,10,Accounts,17-01-2019\r\n",
            "241316NX,Kumiko,10,Accounts,17-01-2019\r\n",
            "796656IE,Gaston,10,Accounts,17-01-2019\r\n",
            "718737IX,Ayumi,10,Accounts,17-01-2019\r\n",
            "331593PS,Beryl,20,HR,17-01-2019\r\n",
            "560447WH,Olga,20,HR,17-01-2019\r\n",
            "222997TJ,Leslie,20,HR,17-01-2019\r\n",
            "171752SY,Mindy,20,HR,17-01-2019\r\n",
            "153636AS,Vicky,20,HR,17-01-2019\r\n",
            "745411HT,Richard,20,HR,17-01-2019\r\n",
            "298464HN,Kirk,20,HR,17-01-2019\r\n",
            "783950BW,Kaori,20,HR,17-01-2019\r\n",
            "892691AR,Beryl,20,HR,17-01-2019\r\n",
            "245668UZ,Oscar,20,HR,17-01-2019\r\n",
            "231206QD,Kumiko,30,Finance,17-01-2019\r\n",
            "357919KT,Wendy,30,Finance,17-01-2019\r\n",
            "472418ZG,Cristobal,30,Finance,17-01-2019\r\n",
            "442292OI,Erika,30,Finance,17-01-2019\r\n",
            "503647MN,Sebastien,30,Finance,17-01-2019\r\n",
            "245319LD,Valerie,30,Finance,17-01-2019\r\n",
            "818776XR,Dolly,30,Finance,17-01-2019\r\n",
            "259229ZU,Emily,30,Finance,17-01-2019\r\n",
            "349360YC,Kaori,30,Finance,17-01-2019\r\n",
            "951594MT,Hitomi,30,Finance,17-01-2019\r\n",
            "149633CM,Marco,10,Accounts,18-01-2019\r\n",
            "212539MU,Rebekah,10,Accounts,18-01-2019\r\n",
            "231555ZZ,Itoe,10,Accounts,18-01-2019\r\n",
            "503996WI,Edouard,10,Accounts,18-01-2019\r\n",
            "704275DC,Kyle,10,Accounts,18-01-2019\r\n",
            "957149WC,Kyle,10,Accounts,18-01-2019\r\n",
            "241316NX,Kumiko,10,Accounts,18-01-2019\r\n",
            "796656IE,Gaston,10,Accounts,18-01-2019\r\n",
            "718737IX,Ayumi,10,Accounts,18-01-2019\r\n",
            "331593PS,Beryl,20,HR,18-01-2019\r\n",
            "560447WH,Olga,20,HR,18-01-2019\r\n",
            "222997TJ,Leslie,20,HR,18-01-2019\r\n",
            "171752SY,Mindy,20,HR,18-01-2019\r\n",
            "153636AS,Vicky,20,HR,18-01-2019\r\n",
            "745411HT,Richard,20,HR,18-01-2019\r\n",
            "298464HN,Kirk,20,HR,18-01-2019\r\n",
            "783950BW,Kaori,20,HR,18-01-2019\r\n",
            "892691AR,Beryl,20,HR,18-01-2019\r\n",
            "245668UZ,Oscar,20,HR,18-01-2019\r\n",
            "231206QD,Kumiko,30,Finance,18-01-2019\r\n",
            "357919KT,Wendy,30,Finance,18-01-2019\r\n",
            "472418ZG,Cristobal,30,Finance,18-01-2019\r\n",
            "442292OI,Erika,30,Finance,18-01-2019\r\n",
            "503647MN,Sebastien,30,Finance,18-01-2019\r\n",
            "245319LD,Valerie,30,Finance,18-01-2019\r\n",
            "818776XR,Dolly,30,Finance,18-01-2019\r\n",
            "259229ZU,Emily,30,Finance,18-01-2019\r\n",
            "349360YC,Kaori,30,Finance,18-01-2019\r\n",
            "951594MT,Hitomi,30,Finance,18-01-2019\r\n",
            "149633CM,Marco,10,Accounts,19-01-2019\r\n",
            "212539MU,Rebekah,10,Accounts,19-01-2019\r\n",
            "231555ZZ,Itoe,10,Accounts,19-01-2019\r\n",
            "503996WI,Edouard,10,Accounts,19-01-2019\r\n",
            "704275DC,Kyle,10,Accounts,19-01-2019\r\n",
            "957149WC,Kyle,10,Accounts,19-01-2019\r\n",
            "241316NX,Kumiko,10,Accounts,19-01-2019\r\n",
            "796656IE,Gaston,10,Accounts,19-01-2019\r\n",
            "718737IX,Ayumi,10,Accounts,19-01-2019\r\n",
            "331593PS,Beryl,20,HR,19-01-2019\r\n",
            "560447WH,Olga,20,HR,19-01-2019\r\n",
            "222997TJ,Leslie,20,HR,19-01-2019\r\n",
            "171752SY,Mindy,20,HR,19-01-2019\r\n",
            "153636AS,Vicky,20,HR,19-01-2019\r\n",
            "745411HT,Richard,20,HR,19-01-2019\r\n",
            "298464HN,Kirk,20,HR,19-01-2019\r\n",
            "783950BW,Kaori,20,HR,19-01-2019\r\n",
            "892691AR,Beryl,20,HR,19-01-2019\r\n",
            "245668UZ,Oscar,20,HR,19-01-2019\r\n",
            "231206QD,Kumiko,30,Finance,19-01-2019\r\n",
            "357919KT,Wendy,30,Finance,19-01-2019\r\n",
            "472418ZG,Cristobal,30,Finance,19-01-2019\r\n",
            "442292OI,Erika,30,Finance,19-01-2019\r\n",
            "503647MN,Sebastien,30,Finance,19-01-2019\r\n",
            "245319LD,Valerie,30,Finance,19-01-2019\r\n",
            "818776XR,Dolly,30,Finance,19-01-2019\r\n",
            "259229ZU,Emily,30,Finance,19-01-2019\r\n",
            "349360YC,Kaori,30,Finance,19-01-2019\r\n",
            "951594MT,Hitomi,30,Finance,19-01-2019\r\n",
            "149633CM,Marco,10,Accounts,20-01-2019\r\n",
            "212539MU,Rebekah,10,Accounts,20-01-2019\r\n",
            "231555ZZ,Itoe,10,Accounts,20-01-2019\r\n",
            "503996WI,Edouard,10,Accounts,20-01-2019\r\n",
            "704275DC,Kyle,10,Accounts,20-01-2019\r\n",
            "957149WC,Kyle,10,Accounts,20-01-2019\r\n",
            "241316NX,Kumiko,10,Accounts,20-01-2019\r\n",
            "796656IE,Gaston,10,Accounts,20-01-2019\r\n",
            "718737IX,Ayumi,10,Accounts,20-01-2019\r\n",
            "331593PS,Beryl,20,HR,20-01-2019\r\n",
            "560447WH,Olga,20,HR,20-01-2019\r\n",
            "222997TJ,Leslie,20,HR,20-01-2019\r\n",
            "171752SY,Mindy,20,HR,20-01-2019\r\n",
            "153636AS,Vicky,20,HR,20-01-2019\r\n",
            "745411HT,Richard,20,HR,20-01-2019\r\n",
            "298464HN,Kirk,20,HR,20-01-2019\r\n",
            "783950BW,Kaori,20,HR,20-01-2019\r\n",
            "892691AR,Beryl,20,HR,20-01-2019\r\n",
            "245668UZ,Oscar,20,HR,20-01-2019\r\n",
            "231206QD,Kumiko,30,Finance,20-01-2019\r\n",
            "357919KT,Wendy,30,Finance,20-01-2019\r\n",
            "472418ZG,Cristobal,30,Finance,20-01-2019\r\n",
            "442292OI,Erika,30,Finance,20-01-2019\r\n",
            "503647MN,Sebastien,30,Finance,20-01-2019\r\n",
            "245319LD,Valerie,30,Finance,20-01-2019\r\n",
            "818776XR,Dolly,30,Finance,20-01-2019\r\n",
            "259229ZU,Emily,30,Finance,20-01-2019\r\n",
            "349360YC,Kaori,30,Finance,20-01-2019\r\n",
            "951594MT,Hitomi,30,Finance,20-01-2019\r\n",
            "149633CM,Marco,10,Accounts,21-01-2019\r\n",
            "212539MU,Rebekah,10,Accounts,21-01-2019\r\n",
            "231555ZZ,Itoe,10,Accounts,21-01-2019\r\n",
            "503996WI,Edouard,10,Accounts,21-01-2019\r\n",
            "704275DC,Kyle,10,Accounts,21-01-2019\r\n",
            "957149WC,Kyle,10,Accounts,21-01-2019\r\n",
            "241316NX,Kumiko,10,Accounts,21-01-2019\r\n",
            "796656IE,Gaston,10,Accounts,21-01-2019\r\n",
            "718737IX,Ayumi,10,Accounts,21-01-2019\r\n",
            "331593PS,Beryl,20,HR,21-01-2019\r\n",
            "560447WH,Olga,20,HR,21-01-2019\r\n",
            "222997TJ,Leslie,20,HR,21-01-2019\r\n",
            "171752SY,Mindy,20,HR,21-01-2019\r\n",
            "153636AS,Vicky,20,HR,21-01-2019\r\n",
            "745411HT,Richard,20,HR,21-01-2019\r\n",
            "298464HN,Kirk,20,HR,21-01-2019\r\n",
            "783950BW,Kaori,20,HR,21-01-2019\r\n",
            "892691AR,Beryl,20,HR,21-01-2019\r\n",
            "245668UZ,Oscar,20,HR,21-01-2019\r\n",
            "231206QD,Kumiko,30,Finance,21-01-2019\r\n",
            "357919KT,Wendy,30,Finance,21-01-2019\r\n",
            "472418ZG,Cristobal,30,Finance,21-01-2019\r\n",
            "442292OI,Erika,30,Finance,21-01-2019\r\n",
            "503647MN,Sebastien,30,Finance,21-01-2019\r\n",
            "245319LD,Valerie,30,Finance,21-01-2019\r\n",
            "818776XR,Dolly,30,Finance,21-01-2019\r\n",
            "259229ZU,Emily,30,Finance,21-01-2019\r\n",
            "349360YC,Kaori,30,Finance,21-01-2019\r\n",
            "951594MT,Hitomi,30,Finance,21-01-2019\r\n",
            "149633CM,Marco,10,Accounts,22-01-2019\r\n",
            "212539MU,Rebekah,10,Accounts,22-01-2019\r\n",
            "231555ZZ,Itoe,10,Accounts,22-01-2019\r\n",
            "503996WI,Edouard,10,Accounts,22-01-2019\r\n",
            "704275DC,Kyle,10,Accounts,22-01-2019\r\n",
            "957149WC,Kyle,10,Accounts,22-01-2019\r\n",
            "241316NX,Kumiko,10,Accounts,22-01-2019\r\n",
            "796656IE,Gaston,10,Accounts,22-01-2019\r\n",
            "718737IX,Ayumi,10,Accounts,22-01-2019\r\n",
            "331593PS,Beryl,20,HR,22-01-2019\r\n",
            "560447WH,Olga,20,HR,22-01-2019\r\n",
            "222997TJ,Leslie,20,HR,22-01-2019\r\n",
            "171752SY,Mindy,20,HR,22-01-2019\r\n",
            "153636AS,Vicky,20,HR,22-01-2019\r\n",
            "745411HT,Richard,20,HR,22-01-2019\r\n",
            "298464HN,Kirk,20,HR,22-01-2019\r\n",
            "783950BW,Kaori,20,HR,22-01-2019\r\n",
            "892691AR,Beryl,20,HR,22-01-2019\r\n",
            "245668UZ,Oscar,20,HR,22-01-2019\r\n",
            "231206QD,Kumiko,30,Finance,22-01-2019\r\n",
            "357919KT,Wendy,30,Finance,22-01-2019\r\n",
            "472418ZG,Cristobal,30,Finance,22-01-2019\r\n",
            "442292OI,Erika,30,Finance,22-01-2019\r\n",
            "503647MN,Sebastien,30,Finance,22-01-2019\r\n",
            "245319LD,Valerie,30,Finance,22-01-2019\r\n",
            "818776XR,Dolly,30,Finance,22-01-2019\r\n",
            "259229ZU,Emily,30,Finance,22-01-2019\r\n",
            "349360YC,Kaori,30,Finance,22-01-2019\r\n",
            "951594MT,Hitomi,30,Finance,22-01-2019\r\n",
            "149633CM,Marco,10,Accounts,23-01-2019\r\n",
            "212539MU,Rebekah,10,Accounts,23-01-2019\r\n",
            "231555ZZ,Itoe,10,Accounts,23-01-2019\r\n",
            "503996WI,Edouard,10,Accounts,23-01-2019\r\n",
            "704275DC,Kyle,10,Accounts,23-01-2019\r\n",
            "957149WC,Kyle,10,Accounts,23-01-2019\r\n",
            "241316NX,Kumiko,10,Accounts,23-01-2019\r\n",
            "796656IE,Gaston,10,Accounts,23-01-2019\r\n",
            "718737IX,Ayumi,10,Accounts,23-01-2019\r\n",
            "331593PS,Beryl,20,HR,23-01-2019\r\n",
            "560447WH,Olga,20,HR,23-01-2019\r\n",
            "222997TJ,Leslie,20,HR,23-01-2019\r\n",
            "171752SY,Mindy,20,HR,23-01-2019\r\n",
            "153636AS,Vicky,20,HR,23-01-2019\r\n",
            "745411HT,Richard,20,HR,23-01-2019\r\n",
            "298464HN,Kirk,20,HR,23-01-2019\r\n",
            "783950BW,Kaori,20,HR,23-01-2019\r\n",
            "892691AR,Beryl,20,HR,23-01-2019\r\n",
            "245668UZ,Oscar,20,HR,23-01-2019\r\n",
            "231206QD,Kumiko,30,Finance,23-01-2019\r\n",
            "357919KT,Wendy,30,Finance,23-01-2019\r\n",
            "472418ZG,Cristobal,30,Finance,23-01-2019\r\n",
            "442292OI,Erika,30,Finance,23-01-2019\r\n",
            "503647MN,Sebastien,30,Finance,23-01-2019\r\n",
            "245319LD,Valerie,30,Finance,23-01-2019\r\n",
            "818776XR,Dolly,30,Finance,23-01-2019\r\n",
            "259229ZU,Emily,30,Finance,23-01-2019\r\n",
            "349360YC,Kaori,30,Finance,23-01-2019\r\n",
            "951594MT,Hitomi,30,Finance,23-01-2019\r\n",
            "149633CM,Marco,10,Accounts,24-01-2019\r\n",
            "212539MU,Rebekah,10,Accounts,24-01-2019\r\n",
            "231555ZZ,Itoe,10,Accounts,24-01-2019\r\n",
            "503996WI,Edouard,10,Accounts,24-01-2019\r\n",
            "704275DC,Kyle,10,Accounts,24-01-2019\r\n",
            "957149WC,Kyle,10,Accounts,24-01-2019\r\n",
            "241316NX,Kumiko,10,Accounts,24-01-2019\r\n",
            "796656IE,Gaston,10,Accounts,24-01-2019\r\n",
            "718737IX,Ayumi,10,Accounts,24-01-2019\r\n",
            "331593PS,Beryl,20,HR,24-01-2019\r\n",
            "560447WH,Olga,20,HR,24-01-2019\r\n",
            "222997TJ,Leslie,20,HR,24-01-2019\r\n",
            "171752SY,Mindy,20,HR,24-01-2019\r\n",
            "153636AS,Vicky,20,HR,24-01-2019\r\n",
            "745411HT,Richard,20,HR,24-01-2019\r\n",
            "298464HN,Kirk,20,HR,24-01-2019\r\n",
            "783950BW,Kaori,20,HR,24-01-2019\r\n",
            "892691AR,Beryl,20,HR,24-01-2019\r\n",
            "245668UZ,Oscar,20,HR,24-01-2019\r\n",
            "231206QD,Kumiko,30,Finance,24-01-2019\r\n",
            "357919KT,Wendy,30,Finance,24-01-2019\r\n",
            "472418ZG,Cristobal,30,Finance,24-01-2019\r\n",
            "442292OI,Erika,30,Finance,24-01-2019\r\n",
            "503647MN,Sebastien,30,Finance,24-01-2019\r\n",
            "245319LD,Valerie,30,Finance,24-01-2019\r\n",
            "818776XR,Dolly,30,Finance,24-01-2019\r\n",
            "259229ZU,Emily,30,Finance,24-01-2019\r\n",
            "349360YC,Kaori,30,Finance,24-01-2019\r\n",
            "951594MT,Hitomi,30,Finance,24-01-2019\r\n",
            "149633CM,Marco,10,Accounts,25-01-2019\r\n",
            "212539MU,Rebekah,10,Accounts,25-01-2019\r\n",
            "231555ZZ,Itoe,10,Accounts,25-01-2019\r\n",
            "503996WI,Edouard,10,Accounts,25-01-2019\r\n",
            "704275DC,Kyle,10,Accounts,25-01-2019\r\n",
            "957149WC,Kyle,10,Accounts,25-01-2019\r\n",
            "241316NX,Kumiko,10,Accounts,25-01-2019\r\n",
            "796656IE,Gaston,10,Accounts,25-01-2019\r\n",
            "718737IX,Ayumi,10,Accounts,25-01-2019\r\n",
            "331593PS,Beryl,20,HR,25-01-2019\r\n",
            "560447WH,Olga,20,HR,25-01-2019\r\n",
            "222997TJ,Leslie,20,HR,25-01-2019\r\n",
            "171752SY,Mindy,20,HR,25-01-2019\r\n",
            "153636AS,Vicky,20,HR,25-01-2019\r\n",
            "745411HT,Richard,20,HR,25-01-2019\r\n",
            "298464HN,Kirk,20,HR,25-01-2019\r\n",
            "783950BW,Kaori,20,HR,25-01-2019\r\n",
            "892691AR,Beryl,20,HR,25-01-2019\r\n",
            "245668UZ,Oscar,20,HR,25-01-2019\r\n",
            "231206QD,Kumiko,30,Finance,25-01-2019\r\n",
            "357919KT,Wendy,30,Finance,25-01-2019\r\n",
            "472418ZG,Cristobal,30,Finance,25-01-2019\r\n",
            "442292OI,Erika,30,Finance,25-01-2019\r\n",
            "503647MN,Sebastien,30,Finance,25-01-2019\r\n",
            "245319LD,Valerie,30,Finance,25-01-2019\r\n",
            "818776XR,Dolly,30,Finance,25-01-2019\r\n",
            "259229ZU,Emily,30,Finance,25-01-2019\r\n",
            "349360YC,Kaori,30,Finance,25-01-2019\r\n",
            "951594MT,Hitomi,30,Finance,25-01-2019\r\n",
            "149633CM,Marco,10,Accounts,26-01-2019\r\n",
            "212539MU,Rebekah,10,Accounts,26-01-2019\r\n",
            "231555ZZ,Itoe,10,Accounts,26-01-2019\r\n",
            "503996WI,Edouard,10,Accounts,26-01-2019\r\n",
            "704275DC,Kyle,10,Accounts,26-01-2019\r\n",
            "957149WC,Kyle,10,Accounts,26-01-2019\r\n",
            "241316NX,Kumiko,10,Accounts,26-01-2019\r\n",
            "796656IE,Gaston,10,Accounts,26-01-2019\r\n",
            "718737IX,Ayumi,10,Accounts,26-01-2019\r\n",
            "331593PS,Beryl,20,HR,26-01-2019\r\n",
            "560447WH,Olga,20,HR,26-01-2019\r\n",
            "222997TJ,Leslie,20,HR,26-01-2019\r\n",
            "171752SY,Mindy,20,HR,26-01-2019\r\n",
            "153636AS,Vicky,20,HR,26-01-2019\r\n",
            "745411HT,Richard,20,HR,26-01-2019\r\n",
            "298464HN,Kirk,20,HR,26-01-2019\r\n",
            "783950BW,Kaori,20,HR,26-01-2019\r\n",
            "892691AR,Beryl,20,HR,26-01-2019\r\n",
            "245668UZ,Oscar,20,HR,26-01-2019\r\n",
            "231206QD,Kumiko,30,Finance,26-01-2019\r\n",
            "357919KT,Wendy,30,Finance,26-01-2019\r\n",
            "472418ZG,Cristobal,30,Finance,26-01-2019\r\n",
            "442292OI,Erika,30,Finance,26-01-2019\r\n",
            "503647MN,Sebastien,30,Finance,26-01-2019\r\n",
            "245319LD,Valerie,30,Finance,26-01-2019\r\n",
            "818776XR,Dolly,30,Finance,26-01-2019\r\n",
            "259229ZU,Emily,30,Finance,26-01-2019\r\n",
            "349360YC,Kaori,30,Finance,26-01-2019\r\n",
            "951594MT,Hitomi,30,Finance,26-01-2019\r\n",
            "149633CM,Marco,10,Accounts,27-01-2019\r\n",
            "212539MU,Rebekah,10,Accounts,27-01-2019\r\n",
            "231555ZZ,Itoe,10,Accounts,27-01-2019\r\n",
            "503996WI,Edouard,10,Accounts,27-01-2019\r\n",
            "704275DC,Kyle,10,Accounts,27-01-2019\r\n",
            "957149WC,Kyle,10,Accounts,27-01-2019\r\n",
            "241316NX,Kumiko,10,Accounts,27-01-2019\r\n",
            "796656IE,Gaston,10,Accounts,27-01-2019\r\n",
            "718737IX,Ayumi,10,Accounts,27-01-2019\r\n",
            "331593PS,Beryl,20,HR,27-01-2019\r\n",
            "560447WH,Olga,20,HR,27-01-2019\r\n",
            "222997TJ,Leslie,20,HR,27-01-2019\r\n",
            "171752SY,Mindy,20,HR,27-01-2019\r\n",
            "153636AS,Vicky,20,HR,27-01-2019\r\n",
            "745411HT,Richard,20,HR,27-01-2019\r\n",
            "298464HN,Kirk,20,HR,27-01-2019\r\n",
            "783950BW,Kaori,20,HR,27-01-2019\r\n",
            "892691AR,Beryl,20,HR,27-01-2019\r\n",
            "245668UZ,Oscar,20,HR,27-01-2019\r\n",
            "231206QD,Kumiko,30,Finance,27-01-2019\r\n",
            "357919KT,Wendy,30,Finance,27-01-2019\r\n",
            "472418ZG,Cristobal,30,Finance,27-01-2019\r\n",
            "442292OI,Erika,30,Finance,27-01-2019\r\n",
            "503647MN,Sebastien,30,Finance,27-01-2019\r\n",
            "245319LD,Valerie,30,Finance,27-01-2019\r\n",
            "818776XR,Dolly,30,Finance,27-01-2019\r\n",
            "259229ZU,Emily,30,Finance,27-01-2019\r\n",
            "349360YC,Kaori,30,Finance,27-01-2019\r\n",
            "951594MT,Hitomi,30,Finance,27-01-2019\r\n",
            "149633CM,Marco,10,Accounts,28-01-2019\r\n",
            "212539MU,Rebekah,10,Accounts,28-01-2019\r\n",
            "231555ZZ,Itoe,10,Accounts,28-01-2019\r\n",
            "503996WI,Edouard,10,Accounts,28-01-2019\r\n",
            "704275DC,Kyle,10,Accounts,28-01-2019\r\n",
            "957149WC,Kyle,10,Accounts,28-01-2019\r\n",
            "241316NX,Kumiko,10,Accounts,28-01-2019\r\n",
            "796656IE,Gaston,10,Accounts,28-01-2019\r\n",
            "718737IX,Ayumi,10,Accounts,28-01-2019\r\n",
            "331593PS,Beryl,20,HR,28-01-2019\r\n",
            "560447WH,Olga,20,HR,28-01-2019\r\n",
            "222997TJ,Leslie,20,HR,28-01-2019\r\n",
            "171752SY,Mindy,20,HR,28-01-2019\r\n",
            "153636AS,Vicky,20,HR,28-01-2019\r\n",
            "745411HT,Richard,20,HR,28-01-2019\r\n",
            "298464HN,Kirk,20,HR,28-01-2019\r\n",
            "783950BW,Kaori,20,HR,28-01-2019\r\n",
            "892691AR,Beryl,20,HR,28-01-2019\r\n",
            "245668UZ,Oscar,20,HR,28-01-2019\r\n",
            "231206QD,Kumiko,30,Finance,28-01-2019\r\n",
            "357919KT,Wendy,30,Finance,28-01-2019\r\n",
            "472418ZG,Cristobal,30,Finance,28-01-2019\r\n",
            "442292OI,Erika,30,Finance,28-01-2019\r\n",
            "503647MN,Sebastien,30,Finance,28-01-2019\r\n",
            "245319LD,Valerie,30,Finance,28-01-2019\r\n",
            "818776XR,Dolly,30,Finance,28-01-2019\r\n",
            "259229ZU,Emily,30,Finance,28-01-2019\r\n",
            "349360YC,Kaori,30,Finance,28-01-2019\r\n",
            "951594MT,Hitomi,30,Finance,28-01-2019\r\n",
            "149633CM,Marco,10,Accounts,29-01-2019\r\n",
            "212539MU,Rebekah,10,Accounts,29-01-2019\r\n",
            "231555ZZ,Itoe,10,Accounts,29-01-2019\r\n",
            "503996WI,Edouard,10,Accounts,29-01-2019\r\n",
            "704275DC,Kyle,10,Accounts,29-01-2019\r\n",
            "957149WC,Kyle,10,Accounts,29-01-2019\r\n",
            "241316NX,Kumiko,10,Accounts,29-01-2019\r\n",
            "796656IE,Gaston,10,Accounts,29-01-2019\r\n",
            "718737IX,Ayumi,10,Accounts,29-01-2019\r\n",
            "331593PS,Beryl,20,HR,29-01-2019\r\n",
            "560447WH,Olga,20,HR,29-01-2019\r\n",
            "222997TJ,Leslie,20,HR,29-01-2019\r\n",
            "171752SY,Mindy,20,HR,29-01-2019\r\n",
            "153636AS,Vicky,20,HR,29-01-2019\r\n",
            "745411HT,Richard,20,HR,29-01-2019\r\n",
            "298464HN,Kirk,20,HR,29-01-2019\r\n",
            "783950BW,Kaori,20,HR,29-01-2019\r\n",
            "892691AR,Beryl,20,HR,29-01-2019\r\n",
            "245668UZ,Oscar,20,HR,29-01-2019\r\n",
            "231206QD,Kumiko,30,Finance,29-01-2019\r\n",
            "357919KT,Wendy,30,Finance,29-01-2019\r\n",
            "472418ZG,Cristobal,30,Finance,29-01-2019\r\n",
            "442292OI,Erika,30,Finance,29-01-2019\r\n",
            "503647MN,Sebastien,30,Finance,29-01-2019\r\n",
            "245319LD,Valerie,30,Finance,29-01-2019\r\n",
            "818776XR,Dolly,30,Finance,29-01-2019\r\n",
            "259229ZU,Emily,30,Finance,29-01-2019\r\n",
            "349360YC,Kaori,30,Finance,29-01-2019\r\n",
            "951594MT,Hitomi,30,Finance,29-01-2019\r\n",
            "149633CM,Marco,10,Accounts,30-01-2019\r\n",
            "212539MU,Rebekah,10,Accounts,30-01-2019\r\n",
            "231555ZZ,Itoe,10,Accounts,30-01-2019\r\n",
            "503996WI,Edouard,10,Accounts,30-01-2019\r\n",
            "704275DC,Kyle,10,Accounts,30-01-2019\r\n",
            "957149WC,Kyle,10,Accounts,30-01-2019\r\n",
            "241316NX,Kumiko,10,Accounts,30-01-2019\r\n",
            "796656IE,Gaston,10,Accounts,30-01-2019\r\n",
            "718737IX,Ayumi,10,Accounts,30-01-2019\r\n",
            "331593PS,Beryl,20,HR,30-01-2019\r\n",
            "560447WH,Olga,20,HR,30-01-2019\r\n",
            "222997TJ,Leslie,20,HR,30-01-2019\r\n",
            "171752SY,Mindy,20,HR,30-01-2019\r\n",
            "153636AS,Vicky,20,HR,30-01-2019\r\n",
            "745411HT,Richard,20,HR,30-01-2019\r\n",
            "298464HN,Kirk,20,HR,30-01-2019\r\n",
            "783950BW,Kaori,20,HR,30-01-2019\r\n",
            "892691AR,Beryl,20,HR,30-01-2019\r\n",
            "245668UZ,Oscar,20,HR,30-01-2019\r\n",
            "231206QD,Kumiko,30,Finance,30-01-2019\r\n",
            "357919KT,Wendy,30,Finance,30-01-2019\r\n",
            "472418ZG,Cristobal,30,Finance,30-01-2019\r\n",
            "442292OI,Erika,30,Finance,30-01-2019\r\n",
            "503647MN,Sebastien,30,Finance,30-01-2019\r\n",
            "245319LD,Valerie,30,Finance,30-01-2019\r\n",
            "818776XR,Dolly,30,Finance,30-01-2019\r\n",
            "259229ZU,Emily,30,Finance,30-01-2019\r\n",
            "349360YC,Kaori,30,Finance,30-01-2019\r\n",
            "951594MT,Hitomi,30,Finance,30-01-2019\r\n",
            "149633CM,Marco,10,Accounts,31-01-2019\r\n",
            "212539MU,Rebekah,10,Accounts,31-01-2019\r\n",
            "231555ZZ,Itoe,10,Accounts,31-01-2019\r\n",
            "503996WI,Edouard,10,Accounts,31-01-2019\r\n",
            "704275DC,Kyle,10,Accounts,31-01-2019\r\n",
            "957149WC,Kyle,10,Accounts,31-01-2019\r\n",
            "241316NX,Kumiko,10,Accounts,31-01-2019\r\n",
            "796656IE,Gaston,10,Accounts,31-01-2019\r\n",
            "718737IX,Ayumi,10,Accounts,31-01-2019\r\n",
            "331593PS,Beryl,20,HR,31-01-2019\r\n",
            "560447WH,Olga,20,HR,31-01-2019\r\n",
            "222997TJ,Leslie,20,HR,31-01-2019\r\n",
            "171752SY,Mindy,20,HR,31-01-2019\r\n",
            "153636AS,Vicky,20,HR,31-01-2019\r\n",
            "745411HT,Richard,20,HR,31-01-2019\r\n",
            "298464HN,Kirk,20,HR,31-01-2019\r\n",
            "783950BW,Kaori,20,HR,31-01-2019\r\n",
            "892691AR,Beryl,20,HR,31-01-2019\r\n",
            "245668UZ,Oscar,20,HR,31-01-2019\r\n",
            "231206QD,Kumiko,30,Finance,31-01-2019\r\n",
            "357919KT,Wendy,30,Finance,31-01-2019\r\n",
            "472418ZG,Cristobal,30,Finance,31-01-2019\r\n",
            "442292OI,Erika,30,Finance,31-01-2019\r\n",
            "503647MN,Sebastien,30,Finance,31-01-2019\r\n",
            "245319LD,Valerie,30,Finance,31-01-2019\r\n",
            "818776XR,Dolly,30,Finance,31-01-2019\r\n",
            "259229ZU,Emily,30,Finance,31-01-2019\r\n",
            "349360YC,Kaori,30,Finance,31-01-2019\r\n",
            "951594MT,Hitomi,30,Finance,31-01-2019"
          ],
          "name": "stdout"
        }
      ]
    },
    {
      "cell_type": "markdown",
      "metadata": {
        "id": "8ngaf1e3viU6",
        "colab_type": "text"
      },
      "source": [
        "## Pipeline"
      ]
    },
    {
      "cell_type": "code",
      "metadata": {
        "id": "N90U9SxU3Dg2",
        "colab_type": "code",
        "colab": {}
      },
      "source": [
        "import apache_beam as beam\n",
        "\n",
        "p1 = beam.Pipeline()\n",
        "\n",
        "attendance_count(\n",
        "    p1\n",
        "    |beam.io.ReadFromText('data/dept_data.txt')\n",
        "    |\n",
        ")"
      ],
      "execution_count": 0,
      "outputs": []
    },
    {
      "cell_type": "code",
      "metadata": {
        "id": "L0fSMIPOsAn2",
        "colab_type": "code",
        "colab": {}
      },
      "source": [
        ""
      ],
      "execution_count": 0,
      "outputs": []
    },
    {
      "cell_type": "code",
      "metadata": {
        "id": "7YHQYjGZsAvY",
        "colab_type": "code",
        "colab": {}
      },
      "source": [
        ""
      ],
      "execution_count": 0,
      "outputs": []
    },
    {
      "cell_type": "code",
      "metadata": {
        "id": "OFL3kLEJsBSj",
        "colab_type": "code",
        "colab": {}
      },
      "source": [
        ""
      ],
      "execution_count": 0,
      "outputs": []
    },
    {
      "cell_type": "code",
      "metadata": {
        "id": "_lnt8RGbsBU0",
        "colab_type": "code",
        "colab": {
          "base_uri": "https://localhost:8080/",
          "height": 71
        },
        "outputId": "29e12ccf-ae02-4cc6-8311-db1d2681e339"
      },
      "source": [
        "import apache_beam as beam\n",
        "\n",
        "p2 = beam.Pipeline()\n",
        "\n",
        "line = (\n",
        "    p2\n",
        "    |beam.Create(['Lorem', 'ipsum', 'amet', 'ex', 'in', 'minim', 'in', 'velit', \n",
        "                  'eu', 'enim', 'veniam', 'amet', 'ullamco', 'adipisicing', \n",
        "                  'reprehenderit', 'elit', 'veniam'])\n",
        "    |beam.io.WriteToText('data/out/create1')\n",
        ")\n",
        "\n",
        "p2.run()\n"
      ],
      "execution_count": 42,
      "outputs": [
        {
          "output_type": "stream",
          "text": [
            "WARNING:apache_beam.io.filebasedsink:Deleting 1 existing files in target path matching: -*-of-%(num_shards)05d\n"
          ],
          "name": "stderr"
        },
        {
          "output_type": "execute_result",
          "data": {
            "text/plain": [
              "<apache_beam.runners.portability.fn_api_runner.RunnerResult at 0x7fed1ecf5b50>"
            ]
          },
          "metadata": {
            "tags": []
          },
          "execution_count": 42
        }
      ]
    },
    {
      "cell_type": "code",
      "metadata": {
        "id": "0nD36DvwuAZs",
        "colab_type": "code",
        "colab": {
          "base_uri": "https://localhost:8080/",
          "height": 34
        },
        "outputId": "8e9e069f-52ab-4b3a-cbb5-0e58da3534b4"
      },
      "source": [
        "!ls data/out/"
      ],
      "execution_count": 43,
      "outputs": [
        {
          "output_type": "stream",
          "text": [
            "create1-00000-of-00001\n"
          ],
          "name": "stdout"
        }
      ]
    },
    {
      "cell_type": "code",
      "metadata": {
        "id": "MwWx3jFvscki",
        "colab_type": "code",
        "colab": {
          "base_uri": "https://localhost:8080/",
          "height": 306
        },
        "outputId": "1c8cb425-1752-4f1e-b7fa-35591cc02ed4"
      },
      "source": [
        "!{('head -n 20 data/out/create1-00000-of-00001')}"
      ],
      "execution_count": 44,
      "outputs": [
        {
          "output_type": "stream",
          "text": [
            "minim\n",
            "reprehenderit\n",
            "ex\n",
            "ullamco\n",
            "ipsum\n",
            "amet\n",
            "veniam\n",
            "eu\n",
            "in\n",
            "enim\n",
            "velit\n",
            "amet\n",
            "Lorem\n",
            "in\n",
            "elit\n",
            "adipisicing\n",
            "veniam\n"
          ],
          "name": "stdout"
        }
      ]
    },
    {
      "cell_type": "code",
      "metadata": {
        "id": "7qmlAiIuvIK_",
        "colab_type": "code",
        "colab": {
          "base_uri": "https://localhost:8080/",
          "height": 34
        },
        "outputId": "9099c96d-a0aa-488a-93a4-c224c1f8f75c"
      },
      "source": [
        "import apache_beam as beam\n",
        "\n",
        "p3 = beam.Pipeline()\n",
        "\n",
        "line = (\n",
        "    p3\n",
        "    |beam.Create(range(30))\n",
        "    |beam.io.WriteToText('data/out/create2')\n",
        ")\n",
        "\n",
        "p3.run()"
      ],
      "execution_count": 45,
      "outputs": [
        {
          "output_type": "execute_result",
          "data": {
            "text/plain": [
              "<apache_beam.runners.portability.fn_api_runner.RunnerResult at 0x7fed1ee30910>"
            ]
          },
          "metadata": {
            "tags": []
          },
          "execution_count": 45
        }
      ]
    },
    {
      "cell_type": "code",
      "metadata": {
        "id": "5Llmpn0ivyV_",
        "colab_type": "code",
        "colab": {
          "base_uri": "https://localhost:8080/",
          "height": 34
        },
        "outputId": "93180aa5-8643-4758-f5b3-f88994a222ac"
      },
      "source": [
        "!ls data/out/"
      ],
      "execution_count": 46,
      "outputs": [
        {
          "output_type": "stream",
          "text": [
            "create1-00000-of-00001\tcreate2-00000-of-00001\n"
          ],
          "name": "stdout"
        }
      ]
    },
    {
      "cell_type": "code",
      "metadata": {
        "id": "_SDrwc4Qv9HM",
        "colab_type": "code",
        "colab": {
          "base_uri": "https://localhost:8080/",
          "height": 357
        },
        "outputId": "a2c79db3-329c-4313-fac7-5d08ebd54e29"
      },
      "source": [
        "!{('head -n 20 data/out/create2-00000-of-00001')}"
      ],
      "execution_count": 47,
      "outputs": [
        {
          "output_type": "stream",
          "text": [
            "4\n",
            "8\n",
            "13\n",
            "29\n",
            "25\n",
            "3\n",
            "0\n",
            "15\n",
            "16\n",
            "17\n",
            "5\n",
            "10\n",
            "12\n",
            "9\n",
            "14\n",
            "18\n",
            "7\n",
            "2\n",
            "27\n",
            "26\n"
          ],
          "name": "stdout"
        }
      ]
    },
    {
      "cell_type": "code",
      "metadata": {
        "id": "io7dh763wAZ5",
        "colab_type": "code",
        "colab": {
          "base_uri": "https://localhost:8080/",
          "height": 34
        },
        "outputId": "dca33e0d-e10e-45ca-c37c-38b812b781c7"
      },
      "source": [
        "import apache_beam as beam\n",
        "import random\n",
        "\n",
        "p4 = beam.Pipeline()\n",
        "\n",
        "line = (\n",
        "    p4\n",
        "    |beam.Create([('Lorem',random.randint(1, 10)), ('ipsum',random.randint(1, 10)), \n",
        "                 ('amet',random.randint(1, 10)), ('ex',random.randint(1, 10)), \n",
        "                 ('in',random.randint(1, 10)), ('minim',random.randint(1, 10)), \n",
        "                 ('in',random.randint(1, 10)), ('velit',random.randint(1, 10)), \n",
        "                 ('eu',random.randint(1, 10)), ('enim',random.randint(1, 10)), \n",
        "                 ('veniam',random.randint(1, 10)), ('amet',random.randint(1, 10)), \n",
        "                 ('ullamco',random.randint(1, 10)), ('adipisicing',random.randint(1, 10)), \n",
        "                 ('reprehenderit',random.randint(1, 10)), ('elit',random.randint(1, 10)), \n",
        "                 ('veniam',random.randint(1, 10))])\n",
        "    |beam.io.WriteToText('data/out/create3')\n",
        ")\n",
        "\n",
        "p4.run()"
      ],
      "execution_count": 50,
      "outputs": [
        {
          "output_type": "execute_result",
          "data": {
            "text/plain": [
              "<apache_beam.runners.portability.fn_api_runner.RunnerResult at 0x7fed206b3a10>"
            ]
          },
          "metadata": {
            "tags": []
          },
          "execution_count": 50
        }
      ]
    },
    {
      "cell_type": "code",
      "metadata": {
        "id": "kpXi-t1Pw1s5",
        "colab_type": "code",
        "colab": {
          "base_uri": "https://localhost:8080/",
          "height": 34
        },
        "outputId": "7b83e0ae-4f16-48ed-f5a2-8408c904aa95"
      },
      "source": [
        "!ls data/out/"
      ],
      "execution_count": 51,
      "outputs": [
        {
          "output_type": "stream",
          "text": [
            "create1-00000-of-00001\tcreate2-00000-of-00001\tcreate3-00000-of-00001\n"
          ],
          "name": "stdout"
        }
      ]
    },
    {
      "cell_type": "code",
      "metadata": {
        "id": "_Z5yWIhGxDdB",
        "colab_type": "code",
        "colab": {
          "base_uri": "https://localhost:8080/",
          "height": 306
        },
        "outputId": "a2d54e26-d720-4d06-bf2e-cadcde296bd0"
      },
      "source": [
        "!{('head -n 20 data/out/create3-00000-of-00001')}"
      ],
      "execution_count": 52,
      "outputs": [
        {
          "output_type": "stream",
          "text": [
            "('Lorem', 7)\n",
            "('veniam', 5)\n",
            "('ullamco', 6)\n",
            "('in', 1)\n",
            "('velit', 4)\n",
            "('reprehenderit', 2)\n",
            "('veniam', 8)\n",
            "('amet', 9)\n",
            "('minim', 10)\n",
            "('adipisicing', 5)\n",
            "('elit', 3)\n",
            "('in', 5)\n",
            "('amet', 10)\n",
            "('ex', 8)\n",
            "('eu', 1)\n",
            "('enim', 4)\n",
            "('ipsum', 10)\n"
          ],
          "name": "stdout"
        }
      ]
    },
    {
      "cell_type": "code",
      "metadata": {
        "id": "74zHqSssxFuR",
        "colab_type": "code",
        "colab": {
          "base_uri": "https://localhost:8080/",
          "height": 71
        },
        "outputId": "aa0fc8a5-e56b-47fd-e7e7-e830347f52b9"
      },
      "source": [
        "import apache_beam as beam\n",
        "import random\n",
        "\n",
        "p5 = beam.Pipeline()\n",
        "\n",
        "line = (\n",
        "    p5\n",
        "    |beam.Create({'row1': range(10),\n",
        "                  'row2': range(11, 20)})\n",
        "    |beam.io.WriteToText('data/out/create4')\n",
        ")\n",
        "\n",
        "p5.run()"
      ],
      "execution_count": 60,
      "outputs": [
        {
          "output_type": "stream",
          "text": [
            "WARNING:apache_beam.io.filebasedsink:Deleting 1 existing files in target path matching: -*-of-%(num_shards)05d\n"
          ],
          "name": "stderr"
        },
        {
          "output_type": "execute_result",
          "data": {
            "text/plain": [
              "<apache_beam.runners.portability.fn_api_runner.RunnerResult at 0x7fed20188a50>"
            ]
          },
          "metadata": {
            "tags": []
          },
          "execution_count": 60
        }
      ]
    },
    {
      "cell_type": "code",
      "metadata": {
        "id": "gcDfNaYZxmLd",
        "colab_type": "code",
        "colab": {
          "base_uri": "https://localhost:8080/",
          "height": 51
        },
        "outputId": "e8865fcd-be3a-452e-fc06-1b088e7bab97"
      },
      "source": [
        "!ls data/out/"
      ],
      "execution_count": 57,
      "outputs": [
        {
          "output_type": "stream",
          "text": [
            "create1-00000-of-00001\tcreate3-00000-of-00001\n",
            "create2-00000-of-00001\tcreate4-00000-of-00001\n"
          ],
          "name": "stdout"
        }
      ]
    },
    {
      "cell_type": "code",
      "metadata": {
        "id": "Orfr0Guvxn-v",
        "colab_type": "code",
        "colab": {
          "base_uri": "https://localhost:8080/",
          "height": 51
        },
        "outputId": "c1d8b338-d273-4e87-9600-3336d7126d88"
      },
      "source": [
        "!{('head -n 20 data/out/create4-00000-of-00001')}"
      ],
      "execution_count": 58,
      "outputs": [
        {
          "output_type": "stream",
          "text": [
            "('row2', [11, 12, 13, 14, 15, 16, 17, 18, 19])\n",
            "('row1', [0, 1, 2, 3, 4, 5, 6, 7, 8, 9])\n"
          ],
          "name": "stdout"
        }
      ]
    },
    {
      "cell_type": "code",
      "metadata": {
        "id": "uMzdnT_Kxr2i",
        "colab_type": "code",
        "colab": {
          "base_uri": "https://localhost:8080/",
          "height": 71
        },
        "outputId": "e2972f58-a1b5-43c6-dfe9-ba07c873be37"
      },
      "source": [
        "import apache_beam as beam\n",
        "import random\n",
        "\n",
        "p6 = beam.Pipeline()\n",
        "\n",
        "line = (\n",
        "    p6\n",
        "    |beam.Create({'row1': range(10),\n",
        "                  'row2': range(11, 20)})\n",
        "    |beam.Map(lambda element: element[1])\n",
        "    |beam.FlatMap(lambda element: element)\n",
        "    |beam.io.WriteToText('data/out/create5')\n",
        ")\n",
        "\n",
        "p6.run()"
      ],
      "execution_count": 73,
      "outputs": [
        {
          "output_type": "stream",
          "text": [
            "WARNING:apache_beam.io.filebasedsink:Deleting 1 existing files in target path matching: -*-of-%(num_shards)05d\n"
          ],
          "name": "stderr"
        },
        {
          "output_type": "execute_result",
          "data": {
            "text/plain": [
              "<apache_beam.runners.portability.fn_api_runner.RunnerResult at 0x7fed1ebf8750>"
            ]
          },
          "metadata": {
            "tags": []
          },
          "execution_count": 73
        }
      ]
    },
    {
      "cell_type": "code",
      "metadata": {
        "id": "sapYLtgLyC0o",
        "colab_type": "code",
        "colab": {
          "base_uri": "https://localhost:8080/",
          "height": 51
        },
        "outputId": "414ad249-2fcd-4060-d827-d5b7c17ced84"
      },
      "source": [
        "!ls data/out/"
      ],
      "execution_count": 74,
      "outputs": [
        {
          "output_type": "stream",
          "text": [
            "create1-00000-of-00001\tcreate3-00000-of-00001\tcreate5-00000-of-00001\n",
            "create2-00000-of-00001\tcreate4-00000-of-00001\n"
          ],
          "name": "stdout"
        }
      ]
    },
    {
      "cell_type": "code",
      "metadata": {
        "id": "gwBUmalTyHlq",
        "colab_type": "code",
        "colab": {
          "base_uri": "https://localhost:8080/",
          "height": 340
        },
        "outputId": "eda0cd14-a00b-4a49-e951-d0cea82581f8"
      },
      "source": [
        "!{('head -n 20 data/out/create5-00000-of-00001')}"
      ],
      "execution_count": 75,
      "outputs": [
        {
          "output_type": "stream",
          "text": [
            "11\n",
            "12\n",
            "13\n",
            "14\n",
            "15\n",
            "16\n",
            "17\n",
            "18\n",
            "19\n",
            "0\n",
            "1\n",
            "2\n",
            "3\n",
            "4\n",
            "5\n",
            "6\n",
            "7\n",
            "8\n",
            "9\n"
          ],
          "name": "stdout"
        }
      ]
    },
    {
      "cell_type": "code",
      "metadata": {
        "id": "TnmaLdrUyKen",
        "colab_type": "code",
        "colab": {}
      },
      "source": [
        ""
      ],
      "execution_count": 0,
      "outputs": []
    }
  ]
}